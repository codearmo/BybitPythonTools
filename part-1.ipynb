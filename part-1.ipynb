{
 "cells": [
  {
   "cell_type": "code",
   "execution_count": null,
   "id": "21dd6ae9",
   "metadata": {},
   "outputs": [],
   "source": [
    "from pybit.unified_trading import HTTP\n",
    "import json\n",
    "   \n",
    "with open('keys.json') as f:\n",
    "    keys = json.load(f)\n",
    "    \n",
    "# change codearmo to whatever you named your key \n",
    "key = keys['codearmo']['api_key']\n",
    "secret = keys['codearmo']['api_secret']\n",
    "testnet = testnet=keys['codearmo']['testnet']\n",
    "\n",
    "session = HTTP(api_key=key, api_secret=secret, testnet=testnet)\n",
    "\n",
    "# Ping Bybit with an authenticated call to make sure its working\n",
    "try:\n",
    "    response = session.get_account_info()\n",
    "    print(\"✅ API keys are working!\")\n",
    "    print(\"Account Info:\", response.get('retMsg'))\n",
    "except Exception as e:\n",
    "    print(\"❌ Failed to authenticate. Please check your API keys.\")\n",
    "    print(\"Error:\", e)"
   ]
  },
  {
   "cell_type": "markdown",
   "id": "14482e1b",
   "metadata": {},
   "source": [
    "#The Professional Set Up"
   ]
  },
  {
   "cell_type": "code",
   "execution_count": null,
   "id": "db68d05e",
   "metadata": {},
   "outputs": [
    {
     "name": "stdout",
     "output_type": "stream",
     "text": [
      "✅ API keys are working!\n",
      "Account Info: OK\n"
     ]
    }
   ],
   "source": [
    "from helpers.get_bybit_http import get_client\n",
    "\n",
    "# For Demo trading\n",
    "client = get_client(testnet=True)\n",
    "\n",
    "# For Live Trading\n",
    "client = get_client(testnet=False)"
   ]
  }
 ],
 "metadata": {
  "kernelspec": {
   "display_name": "venv",
   "language": "python",
   "name": "python3"
  },
  "language_info": {
   "codemirror_mode": {
    "name": "ipython",
    "version": 3
   },
   "file_extension": ".py",
   "mimetype": "text/x-python",
   "name": "python",
   "nbconvert_exporter": "python",
   "pygments_lexer": "ipython3",
   "version": "3.11.0"
  }
 },
 "nbformat": 4,
 "nbformat_minor": 5
}
